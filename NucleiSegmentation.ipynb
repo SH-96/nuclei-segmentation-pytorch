{
 "cells": [
  {
   "cell_type": "markdown",
   "metadata": {
    "colab_type": "text",
    "id": "AbBJ_3_VwQD6"
   },
   "source": [
    "# Nuclei Segmentation using U-Net"
   ]
  },
  {
   "cell_type": "markdown",
   "metadata": {
    "colab_type": "text",
    "id": "bANOKO81U3zN"
   },
   "source": [
    "# Import Libraries"
   ]
  },
  {
   "cell_type": "code",
   "execution_count": 2,
   "metadata": {
    "ExecuteTime": {
     "end_time": "2020-07-21T22:07:28.148477Z",
     "start_time": "2020-07-21T22:07:27.233498Z"
    },
    "colab": {},
    "colab_type": "code",
    "id": "o_WgGVKxU3zO"
   },
   "outputs": [],
   "source": [
    "# Standard libararies\n",
    "import os\n",
    "import glob\n",
    "import random\n",
    "import gc\n",
    "import cv2\n",
    "import numpy as np\n",
    "import matplotlib.pyplot as plt\n",
    "from tqdm.notebook import tqdm\n",
    "\n",
    "# Pytorch Libraries\n",
    "import torch\n",
    "import torchvision\n",
    "import torch.nn.functional as F\n",
    "from torch import nn\n",
    "from torch import optim\n",
    "from torchvision import transforms\n",
    "from torch.utils.data import DataLoader, Dataset\n",
    "from torch.utils.data.sampler import RandomSampler\n",
    "\n",
    "# Ensure Reproducibility\n",
    "torch.backends.cudnn.deterministic = True\n",
    "torch.backends.cudnn.benchmark = False"
   ]
  },
  {
   "cell_type": "markdown",
   "metadata": {
    "colab_type": "text",
    "id": "RGn3j7ocU3zR"
   },
   "source": [
    "# Create Training Files"
   ]
  },
  {
   "cell_type": "markdown",
   "metadata": {
    "colab_type": "text",
    "id": "Ke8rm48kYuES"
   },
   "source": [
    "## Join multiple masks into a single mask"
   ]
  },
  {
   "cell_type": "code",
   "execution_count": null,
   "metadata": {
    "ExecuteTime": {
     "end_time": "2020-07-21T22:07:28.152494Z",
     "start_time": "2020-07-21T22:07:28.149442Z"
    },
    "colab": {},
    "colab_type": "code",
    "id": "OwSuH2gAU3zR"
   },
   "outputs": [],
   "source": [
    "def combine_masks(data_dir):\n",
    "    for image_dir in os.listdir(data_dir):\n",
    "        image_dir_path = os.path.join(data_dir, image_dir)\n",
    "        mask_path = os.path.join(image_dir_path, 'masks')\n",
    "        image_path = os.path.join(image_dir_path, 'images', image_dir+\".png\")\n",
    "        og_img = cv2.cvtColor(cv2.imread(image_path), cv2.COLOR_BGR2GRAY)\n",
    "        \n",
    "        # Combined Mask\n",
    "        new_mask_path = os.path.join(image_dir_path, 'mask')\n",
    "        new_mask = np.zeros_like(og_img)\n",
    "        \n",
    "        if not os.path.exists(new_mask_path):\n",
    "            os.makedirs(new_mask_path)\n",
    "            \n",
    "        for mask in os.listdir(mask_path):\n",
    "            current_mask_path = os.path.join(mask_path, mask)\n",
    "            img = cv2.cvtColor(cv2.imread(current_mask_path), cv2.COLOR_BGR2GRAY)\n",
    "            idx = np.where(img == 255)\n",
    "            new_mask[idx] = 255\n",
    "        full_mask_path = os.path.join(new_mask_path, image_dir+\".png\")\n",
    "        \n",
    "        # Save combined mask\n",
    "        cv2.imwrite(full_mask_path, new_mask)\n",
    "\n",
    "Combine Masks into single masks\n",
    "data_dir = \"stage_1/train/\"\n",
    "combine_mask(data_dir)\n",
    "print(\"Masks Combined.\")"
   ]
  },
  {
   "cell_type": "code",
   "execution_count": null,
   "metadata": {
    "ExecuteTime": {
     "end_time": "2020-07-21T22:07:28.161724Z",
     "start_time": "2020-07-21T22:07:28.154430Z"
    },
    "colab": {},
    "colab_type": "code",
    "id": "Q-xmQEisU3zU"
   },
   "outputs": [],
   "source": [
    "def get_image_paths(data_dir, data_type):\n",
    "    dataset = {}\n",
    "    for image_dir in os.listdir(data_dir):\n",
    "        image_dir_path = os.path.join(data_dir, image_dir)\n",
    "        image_path = os.path.join(image_dir_path, 'images', image_dir+\".png\")\n",
    "        mask_path = os.path.join(image_dir_path, 'mask', image_dir+\".png\")\n",
    "        if(data_type == \"train\"):\n",
    "            dataset[image_dir] = [image_path, mask_path]\n",
    "        else:\n",
    "            dataset[image_dir] = image_path\n",
    "\n",
    "    return dataset\n",
    "\n",
    "# Train Images\n",
    "train_dir = 'stage_1/train/'\n",
    "train_dict = get_image_paths(train_dir, \"train\")\n",
    "\n",
    "# Test Images\n",
    "test_dir = 'stage_1/test/'\n",
    "test_dict = get_image_paths(test_dir, \"test\")"
   ]
  },
  {
   "cell_type": "markdown",
   "metadata": {
    "colab_type": "text",
    "id": "f8dgEadSZZBC"
   },
   "source": [
    "## Split Train and Validation Files"
   ]
  },
  {
   "cell_type": "code",
   "execution_count": null,
   "metadata": {
    "ExecuteTime": {
     "end_time": "2020-07-21T22:07:28.166709Z",
     "start_time": "2020-07-21T22:07:28.162721Z"
    },
    "colab": {},
    "colab_type": "code",
    "id": "a-0yQl6SU3zW"
   },
   "outputs": [],
   "source": [
    "# Create validation split\n",
    "split_size = .10\n",
    "random_seed = 7\n",
    "\n",
    "random.seed(random_seed)\n",
    "val_dict = dict(random.sample(list(train_dict.items()), int(len(train_dict)*split_size)))\n",
    "\n",
    "train_dict = {key:value for key, value in train_dict.items() if key not in val_dict.keys()}"
   ]
  },
  {
   "cell_type": "code",
   "execution_count": null,
   "metadata": {
    "ExecuteTime": {
     "end_time": "2020-07-21T22:07:28.172026Z",
     "start_time": "2020-07-21T22:07:28.167918Z"
    },
    "colab": {},
    "colab_type": "code",
    "id": "HyUUwkqTU3zZ"
   },
   "outputs": [],
   "source": [
    "# training text\n",
    "with open(\"train_images.txt\", 'w') as f:\n",
    "    with open(\"train_labels.txt\", 'w') as i:\n",
    "        for key, value in train_dict.items():\n",
    "            f.write(value[0])\n",
    "            i.write(value[1])\n",
    "\n",
    "            f.write(\"\\n\")\n",
    "            i.write(\"\\n\")\n",
    "                \n",
    "# validation text\n",
    "with open(\"val_images.txt\", 'w') as f:\n",
    "    with open(\"val_labels.txt\", 'w') as i:\n",
    "        for key, value in val_dict.items():\n",
    "            f.write(value[0])\n",
    "            i.write(value[1])\n",
    "\n",
    "            f.write(\"\\n\")\n",
    "            i.write(\"\\n\")\n",
    "\n",
    "# test text\n",
    "with open(\"test_images.txt\", 'w') as f:\n",
    "        for key, value in test_dict.items():\n",
    "            f.write(value)\n",
    "\n",
    "            f.write(\"\\n\")\n",
    "            \n",
    "print(\"Training Files created.\")"
   ]
  },
  {
   "cell_type": "markdown",
   "metadata": {
    "colab_type": "text",
    "id": "SCGbiXBGU3zg"
   },
   "source": [
    "# U-Net Model"
   ]
  },
  {
   "cell_type": "code",
   "execution_count": 3,
   "metadata": {
    "ExecuteTime": {
     "end_time": "2020-07-21T22:07:28.198751Z",
     "start_time": "2020-07-21T22:07:28.184826Z"
    },
    "colab": {},
    "colab_type": "code",
    "id": "05MUoMSUU3zh"
   },
   "outputs": [],
   "source": [
    "\"\"\"\n",
    "U-Net model and U-Net parts borrowed from https://github.com/milesial/Pytorch-UNet/tree/master/unet\n",
    "\"\"\"\n",
    "\n",
    "class DoubleConv(nn.Module):\n",
    "    \"\"\"(convolution => [BN] => ReLU) * 2\"\"\"\n",
    "\n",
    "    def __init__(self, in_channels, out_channels, mid_channels=None):\n",
    "        super().__init__()\n",
    "        if not mid_channels:\n",
    "            mid_channels = out_channels\n",
    "        self.double_conv = nn.Sequential(\n",
    "            nn.Conv2d(in_channels, mid_channels, kernel_size=3, padding=1),\n",
    "            nn.BatchNorm2d(mid_channels),\n",
    "            nn.ReLU(inplace=True),\n",
    "            nn.Conv2d(mid_channels, out_channels, kernel_size=3, padding=1),\n",
    "            nn.BatchNorm2d(out_channels),\n",
    "            nn.ReLU(inplace=True)\n",
    "        )\n",
    "\n",
    "    def forward(self, x):\n",
    "        return self.double_conv(x)\n",
    "\n",
    "\n",
    "class Down(nn.Module):\n",
    "    \"\"\"Downscaling with maxpool then double conv\"\"\"\n",
    "\n",
    "    def __init__(self, in_channels, out_channels):\n",
    "        super().__init__()\n",
    "        self.maxpool_conv = nn.Sequential(\n",
    "            nn.MaxPool2d(2),\n",
    "            DoubleConv(in_channels, out_channels)\n",
    "        )\n",
    "\n",
    "    def forward(self, x):\n",
    "        return self.maxpool_conv(x)\n",
    "\n",
    "\n",
    "class Up(nn.Module):\n",
    "    \"\"\"Upscaling then double conv\"\"\"\n",
    "\n",
    "    def __init__(self, in_channels, out_channels, bilinear=True):\n",
    "        super().__init__()\n",
    "\n",
    "        # if bilinear, use the normal convolutions to reduce the number of channels\n",
    "        if bilinear:\n",
    "            self.up = nn.Upsample(scale_factor=2, mode='bilinear', align_corners=True)\n",
    "            self.conv = DoubleConv(in_channels, out_channels, in_channels // 2)\n",
    "        else:\n",
    "            self.up = nn.ConvTranspose2d(in_channels , in_channels // 2, kernel_size=2, stride=2)\n",
    "            self.conv = DoubleConv(in_channels, out_channels)\n",
    "\n",
    "\n",
    "    def forward(self, x1, x2):\n",
    "        x1 = self.up(x1)\n",
    "        # input is CHW\n",
    "        diffY = x2.size()[2] - x1.size()[2]\n",
    "        diffX = x2.size()[3] - x1.size()[3]\n",
    "\n",
    "        x1 = F.pad(x1, [diffX // 2, diffX - diffX // 2,\n",
    "                        diffY // 2, diffY - diffY // 2])\n",
    "        # if you have padding issues, see\n",
    "        # https://github.com/HaiyongJiang/U-Net-Pytorch-Unstructured-Buggy/commit/0e854509c2cea854e247a9c615f175f76fbb2e3a\n",
    "        # https://github.com/xiaopeng-liao/Pytorch-UNet/commit/8ebac70e633bac59fc22bb5195e513d5832fb3bd\n",
    "        x = torch.cat([x2, x1], dim=1)\n",
    "        return self.conv(x)\n",
    "\n",
    "\n",
    "class OutConv(nn.Module):\n",
    "    def __init__(self, in_channels, out_channels):\n",
    "        super(OutConv, self).__init__()\n",
    "        self.conv = nn.Conv2d(in_channels, out_channels, kernel_size=1)\n",
    "\n",
    "    def forward(self, x):\n",
    "        return self.conv(x)\n",
    "\n",
    "\n",
    "class UNet(nn.Module):\n",
    "    def __init__(self, n_channels, n_classes, bilinear=True):\n",
    "        super(UNet, self).__init__()\n",
    "        self.n_channels = n_channels\n",
    "        self.n_classes = n_classes\n",
    "        self.bilinear = bilinear\n",
    "\n",
    "        self.inc = DoubleConv(n_channels, 64)\n",
    "        self.down1 = Down(64, 128)\n",
    "        self.down2 = Down(128, 256)\n",
    "        self.down3 = Down(256, 512)\n",
    "        factor = 2 if bilinear else 1\n",
    "        self.down4 = Down(512, 1024 // factor)\n",
    "        self.up1 = Up(1024, 512 // factor, bilinear)\n",
    "        self.up2 = Up(512, 256 // factor, bilinear)\n",
    "        self.up3 = Up(256, 128 // factor, bilinear)\n",
    "        self.up4 = Up(128, 64, bilinear)\n",
    "        self.outc = OutConv(64, n_classes)\n",
    "\n",
    "    def forward(self, x):\n",
    "        x1 = self.inc(x)\n",
    "        x2 = self.down1(x1)\n",
    "        x3 = self.down2(x2)\n",
    "        x4 = self.down3(x3)\n",
    "        x5 = self.down4(x4)\n",
    "        x = self.up1(x5, x4)\n",
    "        x = self.up2(x, x3)\n",
    "        x = self.up3(x, x2)\n",
    "        x = self.up4(x, x1)\n",
    "        logits = self.outc(x)\n",
    "        return logits"
   ]
  },
  {
   "cell_type": "markdown",
   "metadata": {
    "colab_type": "text",
    "id": "r9XwDJndU3zc"
   },
   "source": [
    "# Dataset"
   ]
  },
  {
   "cell_type": "code",
   "execution_count": 7,
   "metadata": {
    "ExecuteTime": {
     "end_time": "2020-07-21T22:07:28.183794Z",
     "start_time": "2020-07-21T22:07:28.174818Z"
    },
    "colab": {},
    "colab_type": "code",
    "id": "g_HFOf4EU3zd"
   },
   "outputs": [],
   "source": [
    "# Dataset class for training and validation sets\n",
    "class NucleusDataset(Dataset):\n",
    "    def __init__(self, mask_file, data_file, input_size):\n",
    "        # Load Images\n",
    "        with open(data_file) as f:\n",
    "            self.image_paths = f.readlines()\n",
    "\n",
    "        # Load Masks\n",
    "        with open(mask_file) as f:\n",
    "            self.mask_paths = f.readlines()\n",
    "\n",
    "        self.image_paths = [x.strip() for x in self.image_paths]\n",
    "        self.mask_paths = [x.strip() for x in self.mask_paths]\n",
    "\n",
    "    def __len__(self):\n",
    "        return len(self.image_paths)\n",
    "\n",
    "    def __getitem__(self, idx):\n",
    "        img = cv2.cvtColor(cv2.imread(self.image_paths[idx]), cv2.COLOR_BGR2RGB)\n",
    "        img = self.preprocess()(img)\n",
    "\n",
    "        mask = cv2.cvtColor(cv2.imread(self.mask_paths[idx]), cv2.COLOR_BGR2GRAY)\n",
    "        mask = self.preprocess_mask()(mask)\n",
    "        return (img, mask, idx)\n",
    "    \n",
    "    def preprocess(self):\n",
    "        \"\"\"\n",
    "        Preprocessing function for images. \n",
    "        Transforms: \n",
    "        Conver to PIL image\n",
    "        Resize to specified size.\n",
    "        Convert to grayscale.\n",
    "        Convert to tensor\n",
    "        \"\"\"\n",
    "        return transforms.Compose([\n",
    "            transforms.ToPILImage(),\n",
    "            transforms.Resize(input_size, 3),\n",
    "            transforms.ToTensor()\n",
    "            ])\n",
    "    \n",
    "    def preprocess_mask(self):\n",
    "        \"\"\"\n",
    "        Preprocessing function for masks. \n",
    "        Transforms: \n",
    "        Conver to PIL image\n",
    "        Resize to specified size.\n",
    "        Convert to grayscale.\n",
    "        Convert to tensor\n",
    "        \"\"\"\n",
    "        return transforms.Compose([\n",
    "            transforms.ToPILImage(),\n",
    "            transforms.Resize(input_size, 3),\n",
    "            transforms.Grayscale(),\n",
    "            transforms.ToTensor()\n",
    "            ])\n",
    "\n",
    "# Dataset class for test set\n",
    "class NucleusTestDataset(Dataset):\n",
    "    def __init__(self, data_file, input_size):\n",
    "        # Load Images\n",
    "        with open(data_file) as f:\n",
    "            self.image_paths = f.readlines()\n",
    "\n",
    "        self.image_paths = [x.strip() for x in self.image_paths]\n",
    "\n",
    "    def __len__(self):\n",
    "        return len(self.image_paths)\n",
    "\n",
    "    def __getitem__(self, idx):\n",
    "        img = cv2.cvtColor(cv2.imread(self.image_paths[idx]), cv2.COLOR_BGR2RGB)\n",
    "        img = self.preprocess()(img)\n",
    "\n",
    "        return (img, idx)\n",
    "    \n",
    "    def preprocess(self):\n",
    "        \"\"\"\n",
    "        Preprocessing function for images. \n",
    "        Transforms: \n",
    "        Conver to PIL image\n",
    "        Resize to specified size.\n",
    "        Convert to grayscale.\n",
    "        Convert to tensor\n",
    "        \"\"\"\n",
    "        return transforms.Compose([\n",
    "            transforms.ToPILImage(),\n",
    "            transforms.Resize(input_size, 3),\n",
    "            transforms.ToTensor()\n",
    "            ])"
   ]
  },
  {
   "cell_type": "markdown",
   "metadata": {
    "colab_type": "text",
    "id": "rpO0L_spU3zn"
   },
   "source": [
    "# Load Data"
   ]
  },
  {
   "cell_type": "code",
   "execution_count": null,
   "metadata": {
    "ExecuteTime": {
     "end_time": "2020-07-21T22:07:28.226945Z",
     "start_time": "2020-07-21T22:07:28.213399Z"
    },
    "colab": {
     "base_uri": "https://localhost:8080/",
     "height": 34
    },
    "colab_type": "code",
    "id": "SrGyHJtmU3zn",
    "outputId": "2d6ba816-5097-4761-981c-9d8ee5710d97"
   },
   "outputs": [
    {
     "name": "stdout",
     "output_type": "stream",
     "text": [
      "Data Loaded.\n"
     ]
    }
   ],
   "source": [
    "# Input size for model\n",
    "input_size = (256, 256)\n",
    "\n",
    "# Create train and validation sets\n",
    "train_images_file = \"train_images.txt\"\n",
    "train_labels_file = \"train_labels.txt\"\n",
    "val_images_file = \"val_images.txt\"\n",
    "val_labels_file = \"val_labels.txt\"\n",
    "\n",
    "# Initialise Datasets\n",
    "train_set = NucleusDataset(train_labels_file, train_images_file, input_size)\n",
    "val_set = NucleusDataset(val_labels_file, val_images_file, input_size)\n",
    "\n",
    "# Batch size for training\n",
    "batch_size = 32\n",
    "\n",
    "# Random seed for dataloader\n",
    "random_seed = 7\n",
    "\n",
    "# Initialize Dataloaders\n",
    "torch.manual_seed(random_seed)\n",
    "train_loader = DataLoader(train_set, batch_size = batch_size, shuffle = True)\n",
    "val_loader = DataLoader(val_set, batch_size = batch_size, shuffle = True)\n",
    "print(\"Data Loaded.\")"
   ]
  },
  {
   "cell_type": "markdown",
   "metadata": {
    "colab_type": "text",
    "id": "8OGaZt7VU3zp"
   },
   "source": [
    "# Get Sample"
   ]
  },
  {
   "cell_type": "code",
   "execution_count": null,
   "metadata": {
    "ExecuteTime": {
     "end_time": "2020-07-21T22:07:28.543424Z",
     "start_time": "2020-07-21T22:07:28.267737Z"
    },
    "colab": {
     "base_uri": "https://localhost:8080/",
     "height": 250
    },
    "colab_type": "code",
    "id": "1sUg-e0ZU3zr",
    "outputId": "c924d762-509f-4171-f96b-7f0700ab378c"
   },
   "outputs": [
    {
     "name": "stdout",
     "output_type": "stream",
     "text": [
      "Model Input Shape:  torch.Size([32, 3, 256, 256])\n",
      "Masks Shape:  torch.Size([32, 1, 256, 256])\n"
     ]
    },
    {
     "data": {
      "image/png": "[encoded data removed]",
      "text/plain": [
       "<Figure size 432x288 with 2 Axes>"
      ]
     },
     "metadata": {
      "needs_background": "light",
      "tags": []
     },
     "output_type": "display_data"
    }
   ],
   "source": [
    "def get_image_sample(data_loader):\n",
    "    # Get Sample\n",
    "    inputs, masks, idx = next(iter(data_loader))\n",
    "    \n",
    "    # Display Masks\n",
    "    fig, axes = plt.subplots(1, 2)\n",
    "    titles = ['Input', 'Mask']\n",
    "    image_sets = [inputs[0], masks[0]]\n",
    "    for i, axis in enumerate(axes):\n",
    "        if(i == 0):\n",
    "            axis.imshow(image_sets[i].squeeze(0).permute(1, 2, 0))\n",
    "        else:\n",
    "            axis.imshow(image_sets[i].squeeze(0), cmap = 'gray')\n",
    "        axis.set_title(titles[i])\n",
    "\n",
    "    print(\"Model Input Shape: \", inputs.shape)\n",
    "    print(\"Masks Shape: \", masks.shape)\n",
    "\n",
    "# Get Sample\n",
    "get_image_sample(train_loader)"
   ]
  },
  {
   "cell_type": "markdown",
   "metadata": {
    "colab_type": "text",
    "id": "ZBaF67koU3zu"
   },
   "source": [
    "# Train Model"
   ]
  },
  {
   "cell_type": "code",
   "execution_count": null,
   "metadata": {
    "ExecuteTime": {
     "end_time": "2020-07-21T22:08:54.187676Z",
     "start_time": "2020-07-21T22:08:54.176062Z"
    },
    "colab": {},
    "colab_type": "code",
    "id": "eTXt1AiEU3zu"
   },
   "outputs": [],
   "source": [
    "def train(model, train_dataloader, val_dataloader, batch_size, num_epochs, learning_rate, patience, model_path, device):\n",
    "    \"\"\"\n",
    "    Function to train a u-net model for segmentation.\n",
    "    model: U-Net model\n",
    "    Args:\n",
    "        train_dataloader: training set\n",
    "        val_dataloader: validation set\n",
    "        batch_size: batch_size for training.\n",
    "        num_epochs: number of epochs to train.\n",
    "        learning_rate: learning rate for the optimiser\n",
    "        patience: number of epochs for early stopping.\n",
    "        model_path: checkpoint path to store the model.\n",
    "        device: CPU or GPU to train the model.\n",
    "    \n",
    "    Returns: A dictionary containing the training and validation losses.\n",
    "    \"\"\"\n",
    "    \n",
    "    # Loss Collection\n",
    "    train_losses  = []\n",
    "    val_losses = []\n",
    "\n",
    "    # Loss function\n",
    "    if model.n_classes > 1:\n",
    "        criterion = nn.CrossEntropyLoss()\n",
    "    else:\n",
    "        criterion = nn.BCEWithLogitsLoss()\n",
    "\n",
    "    # Optimiser\n",
    "    optimiser = optim.Adam(model.parameters(), lr=learning_rate)\n",
    "    scheduler = optim.lr_scheduler.ReduceLROnPlateau(optimiser, 'min' if model.n_classes > 1 else 'max', patience=patience)\n",
    "\n",
    "    # Patience count\n",
    "    count = 0\n",
    "\n",
    "    for epoch in tqdm(range(1, num_epochs+1)):\n",
    "        current_train_loss = 0.0\n",
    "        current_val_loss = 0.0\n",
    "\n",
    "        # Train model\n",
    "        model.train()\n",
    "        for features, labels, idx in train_dataloader:\n",
    "            optimiser.zero_grad()\n",
    "            features, labels = features.to(device), labels.to(device)\n",
    "            output = model.forward(features)\n",
    "            loss = criterion(output, labels)\n",
    "            loss.backward()\n",
    "            optimiser.step()\n",
    "            current_train_loss += loss.item()\n",
    "\n",
    "            del features, labels\n",
    "            gc.collect()\n",
    "            torch.cuda.empty_cache()\n",
    "            \n",
    "        # Evaluate model\n",
    "        model.eval()\n",
    "        with torch.no_grad():\n",
    "            for features, labels, idx in val_dataloader:\n",
    "                features, labels = features.to(device), labels.to(device)\n",
    "                output = model.forward(features)\n",
    "                loss = criterion(output, labels)\n",
    "                current_val_loss += loss.item()\n",
    "\n",
    "                del features, labels\n",
    "                gc.collect()\n",
    "                torch.cuda.empty_cache()\n",
    "        \n",
    "        # Store Losses\n",
    "        current_train_loss /= len(train_dataloader)\n",
    "        train_losses.append(current_train_loss)\n",
    "\n",
    "        current_val_loss /= len(val_dataloader)\n",
    "        val_losses.append(current_val_loss)\n",
    "\n",
    "        print(\"Epoch: {0:d} -> Train Loss: {1:0.8f} Val Loss: {2:0.8f} \".format(epoch, current_train_loss, current_val_loss))\n",
    "        if((epoch == 1) or (current_val_loss < best_val_loss)):\n",
    "            best_val_loss = current_val_loss\n",
    "            eq_train_loss = current_train_loss\n",
    "            best_epoch = epoch\n",
    "            count = 0\n",
    "\n",
    "            # Save best model\n",
    "            torch.save(model.state_dict(), model_path)\n",
    "        \n",
    "        # Check for patience level\n",
    "        if(current_val_loss > best_val_loss):\n",
    "            count += 1\n",
    "            if(count == patience):\n",
    "                break\n",
    "\n",
    "    # Save best parameters\n",
    "    best_model_params = {'train_losses': train_losses, \n",
    "                        'val_losses': val_losses, \n",
    "                        'best_val_loss': best_val_loss,\n",
    "                        'eq_train_loss': eq_train_loss,\n",
    "                        'best_epoch': best_epoch}\n",
    "                             \n",
    "    return best_model_params"
   ]
  },
  {
   "cell_type": "code",
   "execution_count": null,
   "metadata": {
    "ExecuteTime": {
     "end_time": "2020-07-21T22:18:29.133970Z",
     "start_time": "2020-07-21T22:08:57.335897Z"
    },
    "colab": {
     "base_uri": "https://localhost:8080/",
     "height": 1000,
     "referenced_widgets": [
      "44cad72b9949433592911fb5e6f30d00",
      "e50b680c008648549723a9a23376c611",
      "f550b49941c24efb95ad0fdf453f4eb0",
      "a8ff9f9c2af146b2a442b782a298e469",
      "9b909c317a5945eba531a6bb1810aeae",
      "7c55510fcd22441381e88f9647878d02",
      "74d3f5fc7002405f9e2a26dfb72981d2",
      "72d3e59f272b429284e54839a1ea86a4"
     ]
    },
    "colab_type": "code",
    "id": "a5Wr-gOjU3zw",
    "outputId": "e4ac469f-efba-429c-df4d-d91c657c0d14"
   },
   "outputs": [
    {
     "data": {
      "application/vnd.jupyter.widget-view+json": {
       "model_id": "44cad72b9949433592911fb5e6f30d00",
       "version_major": 2,
       "version_minor": 0
      },
      "text/plain": [
       "HBox(children=(FloatProgress(value=0.0), HTML(value='')))"
      ]
     },
     "metadata": {
      "tags": []
     },
     "output_type": "display_data"
    },
    {
     "name": "stdout",
     "output_type": "stream",
     "text": [
      "Epoch: 1 -> Train Loss: 0.55332994 Val Loss: 0.72660244 \n",
      "Epoch: 2 -> Train Loss: 0.40483249 Val Loss: 0.72720277 \n",
      "Epoch: 3 -> Train Loss: 0.35987332 Val Loss: 0.36134559 \n",
      "Epoch: 4 -> Train Loss: 0.33493435 Val Loss: 0.34030656 \n",
      "Epoch: 5 -> Train Loss: 0.32134084 Val Loss: 0.30045288 \n",
      "Epoch: 6 -> Train Loss: 0.30885437 Val Loss: 0.29246922 \n",
      "Epoch: 7 -> Train Loss: 0.29628645 Val Loss: 0.29534885 \n",
      "Epoch: 8 -> Train Loss: 0.28585447 Val Loss: 0.27676165 \n",
      "Epoch: 9 -> Train Loss: 0.27875307 Val Loss: 0.29500241 \n",
      "Epoch: 10 -> Train Loss: 0.26883098 Val Loss: 0.28413614 \n",
      "Epoch: 11 -> Train Loss: 0.26066498 Val Loss: 0.25843882 \n",
      "Epoch: 12 -> Train Loss: 0.25287098 Val Loss: 0.25525719 \n",
      "Epoch: 13 -> Train Loss: 0.24732457 Val Loss: 0.24538794 \n",
      "Epoch: 14 -> Train Loss: 0.23997430 Val Loss: 0.23742230 \n",
      "Epoch: 15 -> Train Loss: 0.23115873 Val Loss: 0.23748256 \n",
      "Epoch: 16 -> Train Loss: 0.22485340 Val Loss: 0.29627506 \n",
      "Epoch: 17 -> Train Loss: 0.21936654 Val Loss: 0.23854148 \n",
      "Epoch: 18 -> Train Loss: 0.21436805 Val Loss: 0.20727613 \n",
      "Epoch: 19 -> Train Loss: 0.20876186 Val Loss: 0.20761496 \n",
      "Epoch: 20 -> Train Loss: 0.20229468 Val Loss: 0.20825348 \n",
      "Epoch: 21 -> Train Loss: 0.19828797 Val Loss: 0.22482589 \n",
      "Epoch: 22 -> Train Loss: 0.19548284 Val Loss: 0.19114597 \n",
      "Epoch: 23 -> Train Loss: 0.18756481 Val Loss: 0.18929863 \n",
      "Epoch: 24 -> Train Loss: 0.18337613 Val Loss: 0.18588077 \n",
      "Epoch: 25 -> Train Loss: 0.18064518 Val Loss: 0.18445521 \n",
      "Epoch: 26 -> Train Loss: 0.17536258 Val Loss: 0.16555061 \n",
      "Epoch: 27 -> Train Loss: 0.17011322 Val Loss: 0.16913693 \n",
      "Epoch: 28 -> Train Loss: 0.16763199 Val Loss: 0.15900238 \n",
      "Epoch: 29 -> Train Loss: 0.16275502 Val Loss: 0.16077239 \n",
      "Epoch: 30 -> Train Loss: 0.15916062 Val Loss: 0.15223711 \n",
      "Epoch: 31 -> Train Loss: 0.15404256 Val Loss: 0.15501599 \n",
      "Epoch: 32 -> Train Loss: 0.15268916 Val Loss: 0.16110546 \n",
      "Epoch: 33 -> Train Loss: 0.15094593 Val Loss: 0.15071903 \n",
      "Epoch: 34 -> Train Loss: 0.14522417 Val Loss: 0.15385796 \n",
      "Epoch: 35 -> Train Loss: 0.14197211 Val Loss: 0.17170144 \n",
      "Epoch: 36 -> Train Loss: 0.13965657 Val Loss: 0.13675171 \n",
      "Epoch: 37 -> Train Loss: 0.13629530 Val Loss: 0.14470947 \n",
      "Epoch: 38 -> Train Loss: 0.13248522 Val Loss: 0.13713355 \n",
      "Epoch: 39 -> Train Loss: 0.13075537 Val Loss: 0.12783313 \n",
      "Epoch: 40 -> Train Loss: 0.12910784 Val Loss: 0.15709091 \n",
      "Epoch: 41 -> Train Loss: 0.12590973 Val Loss: 0.14241345 \n",
      "Epoch: 42 -> Train Loss: 0.12283335 Val Loss: 0.13108761 \n",
      "Epoch: 43 -> Train Loss: 0.12026911 Val Loss: 0.12101553 \n",
      "Epoch: 44 -> Train Loss: 0.11856460 Val Loss: 0.12768010 \n",
      "Epoch: 45 -> Train Loss: 0.11570266 Val Loss: 0.12330545 \n",
      "Epoch: 46 -> Train Loss: 0.11230575 Val Loss: 0.13161942 \n",
      "Epoch: 47 -> Train Loss: 0.11067376 Val Loss: 0.19665111 \n",
      "Epoch: 48 -> Train Loss: 0.11026647 Val Loss: 0.12038844 \n",
      "Epoch: 49 -> Train Loss: 0.10710650 Val Loss: 0.11548701 \n",
      "Epoch: 50 -> Train Loss: 0.10528996 Val Loss: 0.12076563 \n",
      "Epoch: 51 -> Train Loss: 0.10373846 Val Loss: 0.10969999 \n",
      "Epoch: 52 -> Train Loss: 0.10130363 Val Loss: 0.13016898 \n",
      "Epoch: 53 -> Train Loss: 0.10042342 Val Loss: 0.11159875 \n",
      "Epoch: 54 -> Train Loss: 0.09899348 Val Loss: 0.22784961 \n",
      "Epoch: 55 -> Train Loss: 0.09945590 Val Loss: 0.12135814 \n",
      "Epoch: 56 -> Train Loss: 0.09493767 Val Loss: 0.09753419 \n",
      "Epoch: 57 -> Train Loss: 0.09108692 Val Loss: 0.10354823 \n",
      "Epoch: 58 -> Train Loss: 0.08996524 Val Loss: 0.10408085 \n",
      "Epoch: 59 -> Train Loss: 0.08743891 Val Loss: 0.11252845 \n",
      "Epoch: 60 -> Train Loss: 0.08550081 Val Loss: 0.12238642 \n",
      "Epoch: 61 -> Train Loss: 0.08326559 Val Loss: 0.09399612 \n",
      "Epoch: 62 -> Train Loss: 0.08121193 Val Loss: 0.11303472 \n",
      "Epoch: 63 -> Train Loss: 0.08003163 Val Loss: 0.09444509 \n",
      "Epoch: 64 -> Train Loss: 0.07706034 Val Loss: 0.08866623 \n",
      "Epoch: 65 -> Train Loss: 0.07643442 Val Loss: 0.09757849 \n",
      "Epoch: 66 -> Train Loss: 0.07554359 Val Loss: 0.09156807 \n",
      "Epoch: 67 -> Train Loss: 0.07270496 Val Loss: 0.09235626 \n",
      "Epoch: 68 -> Train Loss: 0.07187704 Val Loss: 0.09080228 \n",
      "Epoch: 69 -> Train Loss: 0.07054376 Val Loss: 0.09202917 \n",
      "Epoch: 70 -> Train Loss: 0.07030987 Val Loss: 0.10885382 \n",
      "Epoch: 71 -> Train Loss: 0.06736794 Val Loss: 0.10474292 \n",
      "Epoch: 72 -> Train Loss: 0.06693590 Val Loss: 0.09794851 \n",
      "Epoch: 73 -> Train Loss: 0.06500104 Val Loss: 0.09360557 \n",
      "Epoch: 74 -> Train Loss: 0.06303701 Val Loss: 0.10139277 \n"
     ]
    }
   ],
   "source": [
    "# Checkpoint path\n",
    "output_dir = \"experiment_test\"\n",
    "if not os.path.exists(output_dir):\n",
    "    os.makedirs(output_dir)\n",
    "    \n",
    "save_path = os.path.join(output_dir, \"nucleus_unet.pth\")\n",
    "\n",
    "device = torch.device('cuda' if torch.cuda.is_available() else 'cpu')\n",
    "\n",
    "# Initiliase Model\n",
    "torch.manual_seed(random_seed)\n",
    "model = UNet(n_channels = 3, n_classes = 1, bilinear = False).to(device)\n",
    "\n",
    "# Hyperparameters\n",
    "num_epochs = 100\n",
    "learning_rate = 0.0001\n",
    "patience = 10\n",
    "\n",
    "# Train model\n",
    "best_model_params = train(model, train_loader, val_loader, batch_size, num_epochs, \n",
    "                          learning_rate, patience, save_path, device)"
   ]
  },
  {
   "cell_type": "code",
   "execution_count": null,
   "metadata": {
    "ExecuteTime": {
     "end_time": "2020-07-21T22:18:29.277221Z",
     "start_time": "2020-07-21T22:18:29.272542Z"
    },
    "colab": {},
    "colab_type": "code",
    "id": "kqzJiHAQU3zy"
   },
   "outputs": [],
   "source": [
    "print(\"Training complete.\")\n",
    "\n",
    "# Delete model to free memory\n",
    "del model, best_model_params\n",
    "gc.collect()\n",
    "torch.cuda.empty_cache()"
   ]
  },
  {
   "cell_type": "markdown",
   "metadata": {
    "colab_type": "text",
    "id": "Vo4jjaUzU3z0"
   },
   "source": [
    "# Predict"
   ]
  },
  {
   "cell_type": "code",
   "execution_count": 24,
   "metadata": {
    "ExecuteTime": {
     "end_time": "2020-07-21T22:28:31.196248Z",
     "start_time": "2020-07-21T22:28:30.740528Z"
    },
    "colab": {
     "base_uri": "https://localhost:8080/",
     "height": 1000
    },
    "colab_type": "code",
    "id": "hZacZoEBU3z1",
    "outputId": "140928ff-c05d-4a04-d185-5e5920565fbc"
   },
   "outputs": [
    {
     "data": {
      "text/plain": [
       "UNet(\n",
       "  (inc): DoubleConv(\n",
       "    (double_conv): Sequential(\n",
       "      (0): Conv2d(3, 64, kernel_size=(3, 3), stride=(1, 1), padding=(1, 1))\n",
       "      (1): BatchNorm2d(64, eps=1e-05, momentum=0.1, affine=True, track_running_stats=True)\n",
       "      (2): ReLU(inplace=True)\n",
       "      (3): Conv2d(64, 64, kernel_size=(3, 3), stride=(1, 1), padding=(1, 1))\n",
       "      (4): BatchNorm2d(64, eps=1e-05, momentum=0.1, affine=True, track_running_stats=True)\n",
       "      (5): ReLU(inplace=True)\n",
       "    )\n",
       "  )\n",
       "  (down1): Down(\n",
       "    (maxpool_conv): Sequential(\n",
       "      (0): MaxPool2d(kernel_size=2, stride=2, padding=0, dilation=1, ceil_mode=False)\n",
       "      (1): DoubleConv(\n",
       "        (double_conv): Sequential(\n",
       "          (0): Conv2d(64, 128, kernel_size=(3, 3), stride=(1, 1), padding=(1, 1))\n",
       "          (1): BatchNorm2d(128, eps=1e-05, momentum=0.1, affine=True, track_running_stats=True)\n",
       "          (2): ReLU(inplace=True)\n",
       "          (3): Conv2d(128, 128, kernel_size=(3, 3), stride=(1, 1), padding=(1, 1))\n",
       "          (4): BatchNorm2d(128, eps=1e-05, momentum=0.1, affine=True, track_running_stats=True)\n",
       "          (5): ReLU(inplace=True)\n",
       "        )\n",
       "      )\n",
       "    )\n",
       "  )\n",
       "  (down2): Down(\n",
       "    (maxpool_conv): Sequential(\n",
       "      (0): MaxPool2d(kernel_size=2, stride=2, padding=0, dilation=1, ceil_mode=False)\n",
       "      (1): DoubleConv(\n",
       "        (double_conv): Sequential(\n",
       "          (0): Conv2d(128, 256, kernel_size=(3, 3), stride=(1, 1), padding=(1, 1))\n",
       "          (1): BatchNorm2d(256, eps=1e-05, momentum=0.1, affine=True, track_running_stats=True)\n",
       "          (2): ReLU(inplace=True)\n",
       "          (3): Conv2d(256, 256, kernel_size=(3, 3), stride=(1, 1), padding=(1, 1))\n",
       "          (4): BatchNorm2d(256, eps=1e-05, momentum=0.1, affine=True, track_running_stats=True)\n",
       "          (5): ReLU(inplace=True)\n",
       "        )\n",
       "      )\n",
       "    )\n",
       "  )\n",
       "  (down3): Down(\n",
       "    (maxpool_conv): Sequential(\n",
       "      (0): MaxPool2d(kernel_size=2, stride=2, padding=0, dilation=1, ceil_mode=False)\n",
       "      (1): DoubleConv(\n",
       "        (double_conv): Sequential(\n",
       "          (0): Conv2d(256, 512, kernel_size=(3, 3), stride=(1, 1), padding=(1, 1))\n",
       "          (1): BatchNorm2d(512, eps=1e-05, momentum=0.1, affine=True, track_running_stats=True)\n",
       "          (2): ReLU(inplace=True)\n",
       "          (3): Conv2d(512, 512, kernel_size=(3, 3), stride=(1, 1), padding=(1, 1))\n",
       "          (4): BatchNorm2d(512, eps=1e-05, momentum=0.1, affine=True, track_running_stats=True)\n",
       "          (5): ReLU(inplace=True)\n",
       "        )\n",
       "      )\n",
       "    )\n",
       "  )\n",
       "  (down4): Down(\n",
       "    (maxpool_conv): Sequential(\n",
       "      (0): MaxPool2d(kernel_size=2, stride=2, padding=0, dilation=1, ceil_mode=False)\n",
       "      (1): DoubleConv(\n",
       "        (double_conv): Sequential(\n",
       "          (0): Conv2d(512, 1024, kernel_size=(3, 3), stride=(1, 1), padding=(1, 1))\n",
       "          (1): BatchNorm2d(1024, eps=1e-05, momentum=0.1, affine=True, track_running_stats=True)\n",
       "          (2): ReLU(inplace=True)\n",
       "          (3): Conv2d(1024, 1024, kernel_size=(3, 3), stride=(1, 1), padding=(1, 1))\n",
       "          (4): BatchNorm2d(1024, eps=1e-05, momentum=0.1, affine=True, track_running_stats=True)\n",
       "          (5): ReLU(inplace=True)\n",
       "        )\n",
       "      )\n",
       "    )\n",
       "  )\n",
       "  (up1): Up(\n",
       "    (up): ConvTranspose2d(1024, 512, kernel_size=(2, 2), stride=(2, 2))\n",
       "    (conv): DoubleConv(\n",
       "      (double_conv): Sequential(\n",
       "        (0): Conv2d(1024, 512, kernel_size=(3, 3), stride=(1, 1), padding=(1, 1))\n",
       "        (1): BatchNorm2d(512, eps=1e-05, momentum=0.1, affine=True, track_running_stats=True)\n",
       "        (2): ReLU(inplace=True)\n",
       "        (3): Conv2d(512, 512, kernel_size=(3, 3), stride=(1, 1), padding=(1, 1))\n",
       "        (4): BatchNorm2d(512, eps=1e-05, momentum=0.1, affine=True, track_running_stats=True)\n",
       "        (5): ReLU(inplace=True)\n",
       "      )\n",
       "    )\n",
       "  )\n",
       "  (up2): Up(\n",
       "    (up): ConvTranspose2d(512, 256, kernel_size=(2, 2), stride=(2, 2))\n",
       "    (conv): DoubleConv(\n",
       "      (double_conv): Sequential(\n",
       "        (0): Conv2d(512, 256, kernel_size=(3, 3), stride=(1, 1), padding=(1, 1))\n",
       "        (1): BatchNorm2d(256, eps=1e-05, momentum=0.1, affine=True, track_running_stats=True)\n",
       "        (2): ReLU(inplace=True)\n",
       "        (3): Conv2d(256, 256, kernel_size=(3, 3), stride=(1, 1), padding=(1, 1))\n",
       "        (4): BatchNorm2d(256, eps=1e-05, momentum=0.1, affine=True, track_running_stats=True)\n",
       "        (5): ReLU(inplace=True)\n",
       "      )\n",
       "    )\n",
       "  )\n",
       "  (up3): Up(\n",
       "    (up): ConvTranspose2d(256, 128, kernel_size=(2, 2), stride=(2, 2))\n",
       "    (conv): DoubleConv(\n",
       "      (double_conv): Sequential(\n",
       "        (0): Conv2d(256, 128, kernel_size=(3, 3), stride=(1, 1), padding=(1, 1))\n",
       "        (1): BatchNorm2d(128, eps=1e-05, momentum=0.1, affine=True, track_running_stats=True)\n",
       "        (2): ReLU(inplace=True)\n",
       "        (3): Conv2d(128, 128, kernel_size=(3, 3), stride=(1, 1), padding=(1, 1))\n",
       "        (4): BatchNorm2d(128, eps=1e-05, momentum=0.1, affine=True, track_running_stats=True)\n",
       "        (5): ReLU(inplace=True)\n",
       "      )\n",
       "    )\n",
       "  )\n",
       "  (up4): Up(\n",
       "    (up): ConvTranspose2d(128, 64, kernel_size=(2, 2), stride=(2, 2))\n",
       "    (conv): DoubleConv(\n",
       "      (double_conv): Sequential(\n",
       "        (0): Conv2d(128, 64, kernel_size=(3, 3), stride=(1, 1), padding=(1, 1))\n",
       "        (1): BatchNorm2d(64, eps=1e-05, momentum=0.1, affine=True, track_running_stats=True)\n",
       "        (2): ReLU(inplace=True)\n",
       "        (3): Conv2d(64, 64, kernel_size=(3, 3), stride=(1, 1), padding=(1, 1))\n",
       "        (4): BatchNorm2d(64, eps=1e-05, momentum=0.1, affine=True, track_running_stats=True)\n",
       "        (5): ReLU(inplace=True)\n",
       "      )\n",
       "    )\n",
       "  )\n",
       "  (outc): OutConv(\n",
       "    (conv): Conv2d(64, 1, kernel_size=(1, 1), stride=(1, 1))\n",
       "  )\n",
       ")"
      ]
     },
     "execution_count": 24,
     "metadata": {
      "tags": []
     },
     "output_type": "execute_result"
    }
   ],
   "source": [
    "# Get test set\n",
    "test_file = \"test_images.txt\"\n",
    "input_size = (256, 256)\n",
    "torch.manual_seed(7)\n",
    "test_set = NucleusTestDataset(test_file, input_size)\n",
    "test_loader = DataLoader(test_set, batch_size = 1, sampler = RandomSampler(test_set))\n",
    "\n",
    "# Inference device\n",
    "device = 'cuda' if torch.cuda.is_available() else 'cpu'\n",
    "\n",
    "# Load Model\n",
    "model_path = \"experiment_test/nucleus_unet.pth\"\n",
    "model = UNet(n_channels = 3, n_classes = 1, bilinear = False).to(device)\n",
    "model.load_state_dict(torch.load(model_path, map_location = device))\n",
    "model.eval()"
   ]
  },
  {
   "cell_type": "code",
   "execution_count": 33,
   "metadata": {
    "ExecuteTime": {
     "end_time": "2020-07-21T22:29:47.389247Z",
     "start_time": "2020-07-21T22:29:47.237283Z"
    },
    "colab": {},
    "colab_type": "code",
    "id": "k2SuwROEU3z2"
   },
   "outputs": [],
   "source": [
    "# Predict Function\n",
    "def predict_mask(input, threshold):\n",
    "    output = model(input.to(device))\n",
    "    output = torch.sigmoid(output).detach().cpu().numpy()\n",
    "    pred = np.zeros_like(output)\n",
    "    pred[np.where(output > threshold)] = 255\n",
    "\n",
    "    return pred\n",
    "\n",
    "# Threshold for prediction\n",
    "threshold = 0.5\n",
    "\n",
    "# Get test image\n",
    "input, idx = next(iter(test_loader))\n",
    "\n",
    "pred = predict_mask(input, threshold)"
   ]
  },
  {
   "cell_type": "markdown",
   "metadata": {
    "colab_type": "text",
    "id": "uHzMNudJU3z5"
   },
   "source": [
    "# Visualize"
   ]
  },
  {
   "cell_type": "code",
   "execution_count": 34,
   "metadata": {
    "ExecuteTime": {
     "end_time": "2020-07-21T22:29:48.093234Z",
     "start_time": "2020-07-21T22:29:47.751310Z"
    },
    "colab": {
     "base_uri": "https://localhost:8080/",
     "height": 490
    },
    "colab_type": "code",
    "id": "4No2_WQ_U3z5",
    "outputId": "bd80e629-0c20-4d7c-e881-fe4ecf982b5b"
   },
   "outputs": [
    {
     "data": {
      "image/png": "[encoded data removed]",
      "text/plain": [
       "<Figure size 1200x560 with 2 Axes>"
      ]
     },
     "metadata": {
      "needs_background": "light",
      "tags": []
     },
     "output_type": "display_data"
    }
   ],
   "source": [
    "def visualize(input, pred):\n",
    "    fig, axes = plt.subplots(1, 2, figsize=(15, 7), dpi=80, sharex=True, sharey=True)\n",
    "    titles = ['Input', 'Prediction']\n",
    "    image_sets = [input, pred]\n",
    "    for i, axis in enumerate(axes):\n",
    "        if (i == 0):\n",
    "            img = image_sets[i].squeeze(0).permute(1, 2, 0)\n",
    "        else:\n",
    "            img = image_sets[i].squeeze(0).squeeze(0)\n",
    "        axis.imshow(img, cmap = 'gray')\n",
    "        axis.set_title(titles[i])\n",
    "\n",
    "\n",
    "# Visualise Prediction\n",
    "visualize(input, pred)"
   ]
  }
 ],
 "metadata": {
  "accelerator": "GPU",
  "colab": {
   "collapsed_sections": [],
   "name": "NucleusSegmentation.ipynb",
   "provenance": []
  },
  "kernelspec": {
   "display_name": "Python 3",
   "language": "python",
   "name": "python3"
  },
  "language_info": {
   "codemirror_mode": {
    "name": "ipython",
    "version": 3
   },
   "file_extension": ".py",
   "mimetype": "text/x-python",
   "name": "python",
   "nbconvert_exporter": "python",
   "pygments_lexer": "ipython3",
   "version": "3.7.4"
  },
  "varInspector": {
   "cols": {
    "lenName": 16,
    "lenType": 16,
    "lenVar": 40
   },
   "kernels_config": {
    "python": {
     "delete_cmd_postfix": "",
     "delete_cmd_prefix": "del ",
     "library": "var_list.py",
     "varRefreshCmd": "print(var_dic_list())"
    },
    "r": {
     "delete_cmd_postfix": ") ",
     "delete_cmd_prefix": "rm(",
     "library": "var_list.r",
     "varRefreshCmd": "cat(var_dic_list()) "
    }
   },
   "types_to_exclude": [
    "module",
    "function",
    "builtin_function_or_method",
    "instance",
    "_Feature"
   ],
   "window_display": false
  },
  "widgets": {
   "application/vnd.jupyter.widget-state+json": {
    "44cad72b9949433592911fb5e6f30d00": {
     "model_module": "@jupyter-widgets/controls",
     "model_name": "HBoxModel",
     "state": {
      "_dom_classes": [],
      "_model_module": "@jupyter-widgets/controls",
      "_model_module_version": "1.5.0",
      "_model_name": "HBoxModel",
      "_view_count": null,
      "_view_module": "@jupyter-widgets/controls",
      "_view_module_version": "1.5.0",
      "_view_name": "HBoxView",
      "box_style": "",
      "children": [
       "IPY_MODEL_f550b49941c24efb95ad0fdf453f4eb0",
       "IPY_MODEL_a8ff9f9c2af146b2a442b782a298e469"
      ],
      "layout": "IPY_MODEL_e50b680c008648549723a9a23376c611"
     }
    },
    "72d3e59f272b429284e54839a1ea86a4": {
     "model_module": "@jupyter-widgets/base",
     "model_name": "LayoutModel",
     "state": {
      "_model_module": "@jupyter-widgets/base",
      "_model_module_version": "1.2.0",
      "_model_name": "LayoutModel",
      "_view_count": null,
      "_view_module": "@jupyter-widgets/base",
      "_view_module_version": "1.2.0",
      "_view_name": "LayoutView",
      "align_content": null,
      "align_items": null,
      "align_self": null,
      "border": null,
      "bottom": null,
      "display": null,
      "flex": null,
      "flex_flow": null,
      "grid_area": null,
      "grid_auto_columns": null,
      "grid_auto_flow": null,
      "grid_auto_rows": null,
      "grid_column": null,
      "grid_gap": null,
      "grid_row": null,
      "grid_template_areas": null,
      "grid_template_columns": null,
      "grid_template_rows": null,
      "height": null,
      "justify_content": null,
      "justify_items": null,
      "left": null,
      "margin": null,
      "max_height": null,
      "max_width": null,
      "min_height": null,
      "min_width": null,
      "object_fit": null,
      "object_position": null,
      "order": null,
      "overflow": null,
      "overflow_x": null,
      "overflow_y": null,
      "padding": null,
      "right": null,
      "top": null,
      "visibility": null,
      "width": null
     }
    },
    "74d3f5fc7002405f9e2a26dfb72981d2": {
     "model_module": "@jupyter-widgets/controls",
     "model_name": "DescriptionStyleModel",
     "state": {
      "_model_module": "@jupyter-widgets/controls",
      "_model_module_version": "1.5.0",
      "_model_name": "DescriptionStyleModel",
      "_view_count": null,
      "_view_module": "@jupyter-widgets/base",
      "_view_module_version": "1.2.0",
      "_view_name": "StyleView",
      "description_width": ""
     }
    },
    "7c55510fcd22441381e88f9647878d02": {
     "model_module": "@jupyter-widgets/base",
     "model_name": "LayoutModel",
     "state": {
      "_model_module": "@jupyter-widgets/base",
      "_model_module_version": "1.2.0",
      "_model_name": "LayoutModel",
      "_view_count": null,
      "_view_module": "@jupyter-widgets/base",
      "_view_module_version": "1.2.0",
      "_view_name": "LayoutView",
      "align_content": null,
      "align_items": null,
      "align_self": null,
      "border": null,
      "bottom": null,
      "display": null,
      "flex": null,
      "flex_flow": null,
      "grid_area": null,
      "grid_auto_columns": null,
      "grid_auto_flow": null,
      "grid_auto_rows": null,
      "grid_column": null,
      "grid_gap": null,
      "grid_row": null,
      "grid_template_areas": null,
      "grid_template_columns": null,
      "grid_template_rows": null,
      "height": null,
      "justify_content": null,
      "justify_items": null,
      "left": null,
      "margin": null,
      "max_height": null,
      "max_width": null,
      "min_height": null,
      "min_width": null,
      "object_fit": null,
      "object_position": null,
      "order": null,
      "overflow": null,
      "overflow_x": null,
      "overflow_y": null,
      "padding": null,
      "right": null,
      "top": null,
      "visibility": null,
      "width": null
     }
    },
    "9b909c317a5945eba531a6bb1810aeae": {
     "model_module": "@jupyter-widgets/controls",
     "model_name": "ProgressStyleModel",
     "state": {
      "_model_module": "@jupyter-widgets/controls",
      "_model_module_version": "1.5.0",
      "_model_name": "ProgressStyleModel",
      "_view_count": null,
      "_view_module": "@jupyter-widgets/base",
      "_view_module_version": "1.2.0",
      "_view_name": "StyleView",
      "bar_color": null,
      "description_width": "initial"
     }
    },
    "a8ff9f9c2af146b2a442b782a298e469": {
     "model_module": "@jupyter-widgets/controls",
     "model_name": "HTMLModel",
     "state": {
      "_dom_classes": [],
      "_model_module": "@jupyter-widgets/controls",
      "_model_module_version": "1.5.0",
      "_model_name": "HTMLModel",
      "_view_count": null,
      "_view_module": "@jupyter-widgets/controls",
      "_view_module_version": "1.5.0",
      "_view_name": "HTMLView",
      "description": "",
      "description_tooltip": null,
      "layout": "IPY_MODEL_72d3e59f272b429284e54839a1ea86a4",
      "placeholder": "​",
      "style": "IPY_MODEL_74d3f5fc7002405f9e2a26dfb72981d2",
      "value": " 73/100 [1:37:43&lt;28:06, 62.45s/it]"
     }
    },
    "e50b680c008648549723a9a23376c611": {
     "model_module": "@jupyter-widgets/base",
     "model_name": "LayoutModel",
     "state": {
      "_model_module": "@jupyter-widgets/base",
      "_model_module_version": "1.2.0",
      "_model_name": "LayoutModel",
      "_view_count": null,
      "_view_module": "@jupyter-widgets/base",
      "_view_module_version": "1.2.0",
      "_view_name": "LayoutView",
      "align_content": null,
      "align_items": null,
      "align_self": null,
      "border": null,
      "bottom": null,
      "display": null,
      "flex": null,
      "flex_flow": null,
      "grid_area": null,
      "grid_auto_columns": null,
      "grid_auto_flow": null,
      "grid_auto_rows": null,
      "grid_column": null,
      "grid_gap": null,
      "grid_row": null,
      "grid_template_areas": null,
      "grid_template_columns": null,
      "grid_template_rows": null,
      "height": null,
      "justify_content": null,
      "justify_items": null,
      "left": null,
      "margin": null,
      "max_height": null,
      "max_width": null,
      "min_height": null,
      "min_width": null,
      "object_fit": null,
      "object_position": null,
      "order": null,
      "overflow": null,
      "overflow_x": null,
      "overflow_y": null,
      "padding": null,
      "right": null,
      "top": null,
      "visibility": null,
      "width": null
     }
    },
    "f550b49941c24efb95ad0fdf453f4eb0": {
     "model_module": "@jupyter-widgets/controls",
     "model_name": "FloatProgressModel",
     "state": {
      "_dom_classes": [],
      "_model_module": "@jupyter-widgets/controls",
      "_model_module_version": "1.5.0",
      "_model_name": "FloatProgressModel",
      "_view_count": null,
      "_view_module": "@jupyter-widgets/controls",
      "_view_module_version": "1.5.0",
      "_view_name": "ProgressView",
      "bar_style": "danger",
      "description": " 73%",
      "description_tooltip": null,
      "layout": "IPY_MODEL_7c55510fcd22441381e88f9647878d02",
      "max": 100,
      "min": 0,
      "orientation": "horizontal",
      "style": "IPY_MODEL_9b909c317a5945eba531a6bb1810aeae",
      "value": 73
     }
    }
   }
  }
 },
 "nbformat": 4,
 "nbformat_minor": 1
}
